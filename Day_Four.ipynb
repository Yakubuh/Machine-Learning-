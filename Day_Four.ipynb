{
 "cells": [
  {
   "cell_type": "markdown",
   "metadata": {},
   "source": [
    "# Model Evaluation & Data Visualization\n",
    "* Model accuracy, precision, recall, and F1-score.\n",
    "* Hyperparameter tuning and cross-validation.\n",
    "* Creating data visualizations with Matplotlib and Seaborn.\n",
    "* Hands-on: Evaluating and improving an ML model.\n"
   ]
  },
  {
   "cell_type": "markdown",
   "metadata": {},
   "source": []
  }
 ],
 "metadata": {
  "language_info": {
   "name": "python"
  }
 },
 "nbformat": 4,
 "nbformat_minor": 2
}
