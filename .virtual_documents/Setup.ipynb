











!pip show numpy





import numpy
print(numpy.__version__)
