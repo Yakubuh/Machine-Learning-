{
 "cells": [
  {
   "cell_type": "markdown",
   "metadata": {},
   "source": [
    "# Python for Data Science\n",
    "* Installation of required softwares and libraries\n",
    "* Introduction to Python (variables, data types, loops, functions).\n",
    "* Introduction to Jupyter Notebook.\n",
    "* Overview of key libraries: NumPy, Pandas, Matplotlib, and Seaborn.\n",
    "* Hands-on exercises: Data manipulation and visualization.\n"
   ]
  },
  {
   "cell_type": "markdown",
   "metadata": {},
   "source": []
  }
 ],
 "metadata": {
  "kernelspec": {
   "display_name": "base",
   "language": "python",
   "name": "python3"
  },
  "language_info": {
   "name": "python",
   "version": "3.12.4"
  }
 },
 "nbformat": 4,
 "nbformat_minor": 2
}
