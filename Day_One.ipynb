{
 "cells": [
  {
   "cell_type": "markdown",
   "metadata": {},
   "source": [
    "# Python for Data Science\n",
    "* Installation of required softwares and libraries\n",
    "* Introduction to Python (variables, data types, loops, functions).\n",
    "* Introduction to Jupyter Notebook.\n",
    "* Overview of key libraries: NumPy, Pandas, Matplotlib, and Seaborn.\n",
    "* Hands-on exercises: Data manipulation and visualization.\n"
   ]
  },
  {
   "cell_type": "markdown",
   "metadata": {},
   "source": [
    "## Things to download\n",
    "* Python\n",
    "* anaconda\n",
    "\n",
    "## Packages to install\n",
    "* Numpy\n",
    "* Matplotlib\n",
    "* Seaborn\n",
    "* Pandas\n",
    "* Scickit-Learn\n",
    "  "
   ]
  },
  {
   "cell_type": "markdown",
   "metadata": {},
   "source": [
    "# Python Basics"
   ]
  },
  {
   "cell_type": "markdown",
   "metadata": {},
   "source": [
    "### Python is an interpreted language, which means that it is not compiled into machine code before it is run. Instead, the Python interpreter reads the source code, interprets it, and runs it. This makes Python a great language for beginners, as it is easy to write and run code without having to worry about compiling it."
   ]
  },
  {
   "cell_type": "markdown",
   "metadata": {},
   "source": [
    "### Variables in Python do not have a data type as compare to other languages"
   ]
  },
  {
   "cell_type": "markdown",
   "metadata": {},
   "source": [
    "For instance in C++ \n",
    "we declare an integer variable as:<br>\n",
    "int variableName = 20;\n",
    "<br>\n",
    "In Python we simply write the name of the varible<br>\n",
    "VarName = 20 "
   ]
  },
  {
   "cell_type": "code",
   "execution_count": 3,
   "metadata": {},
   "outputs": [
    {
     "name": "stdout",
     "output_type": "stream",
     "text": [
      "VarName =  20\n"
     ]
    }
   ],
   "source": [
    "# Example\n",
    "varname = 20\n",
    "\n",
    "print(\"VarName = \", varname)"
   ]
  },
  {
   "cell_type": "markdown",
   "metadata": {},
   "source": [
    "The interpretor understands that the variable varname is an integer and prints it as such. "
   ]
  },
  {
   "cell_type": "markdown",
   "metadata": {},
   "source": [
    "Same thing applies to the other data types such as float, double, string, list, tuple, dictionary, etc."
   ]
  },
  {
   "cell_type": "code",
   "execution_count": 4,
   "metadata": {},
   "outputs": [
    {
     "name": "stdout",
     "output_type": "stream",
     "text": [
      "Name =  Yakubu\n"
     ]
    }
   ],
   "source": [
    "# another example\n",
    "\n",
    "name = \"Yakubu\"\n",
    "print(\"Name = \", name)"
   ]
  },
  {
   "cell_type": "code",
   "execution_count": null,
   "metadata": {},
   "outputs": [],
   "source": []
  }
 ],
 "metadata": {
  "kernelspec": {
   "display_name": "base",
   "language": "python",
   "name": "python3"
  },
  "language_info": {
   "codemirror_mode": {
    "name": "ipython",
    "version": 3
   },
   "file_extension": ".py",
   "mimetype": "text/x-python",
   "name": "python",
   "nbconvert_exporter": "python",
   "pygments_lexer": "ipython3",
   "version": "3.12.4"
  }
 },
 "nbformat": 4,
 "nbformat_minor": 2
}
