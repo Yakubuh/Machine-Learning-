{
 "cells": [
  {
   "cell_type": "markdown",
   "metadata": {},
   "source": [
    "# Python for Data Science\n",
    "* Installation of required softwares and libraries\n",
    "* Introduction to Python (variables, data types, loops, functions).\n",
    "* Introduction to Jupyter Notebook.\n",
    "* Overview of key libraries: NumPy, Pandas, Matplotlib, and Seaborn.\n",
    "* Hands-on exercises: Data manipulation and visualization.\n"
   ]
  },
  {
   "cell_type": "markdown",
   "metadata": {},
   "source": [
    "## Things to download\n",
    "* Python\n",
    "* Anaconda\n",
    "* VS Code\n",
    "\n",
    "## Packages to install\n",
    "* Numpy\n",
    "* Matplotlib\n",
    "* Seaborn\n",
    "* Pandas\n",
    "* Scickit-Learn\n",
    "  "
   ]
  },
  {
   "cell_type": "markdown",
   "metadata": {},
   "source": [
    "# Python Basics"
   ]
  },
  {
   "cell_type": "markdown",
   "metadata": {},
   "source": [
    "### Python is an interpreted language, which means that it is not compiled into machine code before it is run. Instead, the Python interpreter reads the source code, interprets it, and runs it. This makes Python a great language for beginners, as it is easy to write and run code without having to worry about compiling it."
   ]
  },
  {
   "cell_type": "markdown",
   "metadata": {},
   "source": [
    "### In Python, variables do not have explicitly declared data types as in statically typed languages like C++ or Java. Instead, Python uses dynamic typing, meaning the data type of a variable is determined at runtime based on the value assigned to it"
   ]
  },
  {
   "cell_type": "markdown",
   "metadata": {},
   "source": [
    "For instance in C++ \n",
    "we declare an integer variable as:<br>\n",
    "int variableName = 20;\n",
    "<br>\n",
    "In Python we simply write the name of the varible<br>\n",
    "VarName = 20 "
   ]
  },
  {
   "cell_type": "code",
   "execution_count": null,
   "metadata": {},
   "outputs": [
    {
     "name": "stdout",
     "output_type": "stream",
     "text": [
      "VarName =  20\n"
     ]
    }
   ],
   "source": [
    "# Example\n",
    "# use type function to get the type of the variable\n",
    "\n",
    "varname = 20\n",
    "print(\"VarName = \", varname)"
   ]
  },
  {
   "cell_type": "markdown",
   "metadata": {},
   "source": [
    "The interpretor understands that the variable varname is an integer and prints it as such. "
   ]
  },
  {
   "cell_type": "markdown",
   "metadata": {},
   "source": [
    "Same thing applies to the other data types such as float, double, string, list, tuple, dictionary, etc."
   ]
  },
  {
   "cell_type": "code",
   "execution_count": 2,
   "metadata": {},
   "outputs": [
    {
     "name": "stdout",
     "output_type": "stream",
     "text": [
      "Name = Yakubu\n"
     ]
    }
   ],
   "source": [
    "# another example\n",
    "\n",
    "name = \"Yakubu\"\n",
    "print(\"Name = \" + name)"
   ]
  },
  {
   "cell_type": "code",
   "execution_count": 3,
   "metadata": {},
   "outputs": [
    {
     "name": "stdout",
     "output_type": "stream",
     "text": [
      "The value of Pi =  3.142\n"
     ]
    }
   ],
   "source": [
    "pi = 3.142\n",
    "print(\"The value of Pi = \", pi)"
   ]
  },
  {
   "cell_type": "markdown",
   "metadata": {},
   "source": [
    "### we can use the type() function to check the data type of the variable"
   ]
  },
  {
   "cell_type": "code",
   "execution_count": 5,
   "metadata": {},
   "outputs": [
    {
     "name": "stdout",
     "output_type": "stream",
     "text": [
      "Type of Name =  <class 'str'>\n",
      "Type of Pi =  <class 'float'>\n"
     ]
    }
   ],
   "source": [
    "type_of_name = type(name)\n",
    "type_of_pi = type(pi)\n",
    "\n",
    "print(\"Type of Name = \", type_of_name)\n",
    "print(\"Type of Pi = \", type_of_pi)"
   ]
  },
  {
   "cell_type": "code",
   "execution_count": null,
   "metadata": {},
   "outputs": [],
   "source": []
  },
  {
   "cell_type": "markdown",
   "metadata": {},
   "source": [
    "## Taking in input from the user"
   ]
  },
  {
   "cell_type": "code",
   "execution_count": 6,
   "metadata": {},
   "outputs": [
    {
     "name": "stdout",
     "output_type": "stream",
     "text": [
      "Your name is  Yakubu\n"
     ]
    }
   ],
   "source": [
    "name  = input(\"Enter your name: \")\n",
    "print(\"Your name is \", name)"
   ]
  },
  {
   "cell_type": "code",
   "execution_count": 7,
   "metadata": {},
   "outputs": [
    {
     "name": "stdout",
     "output_type": "stream",
     "text": [
      "Your age is  23\n"
     ]
    }
   ],
   "source": [
    "age  = input(\"Enter your age: \")\n",
    "print(\"Your age is \", age)"
   ]
  },
  {
   "cell_type": "code",
   "execution_count": 8,
   "metadata": {},
   "outputs": [
    {
     "data": {
      "text/plain": [
       "str"
      ]
     },
     "execution_count": 8,
     "metadata": {},
     "output_type": "execute_result"
    }
   ],
   "source": [
    "type(age)"
   ]
  },
  {
   "cell_type": "code",
   "execution_count": 9,
   "metadata": {},
   "outputs": [
    {
     "name": "stdout",
     "output_type": "stream",
     "text": [
      "Your age is  24\n"
     ]
    }
   ],
   "source": [
    "age = eval(input(\"Enter your age: \"))\n",
    "print(\"Your age is \", age)"
   ]
  },
  {
   "cell_type": "code",
   "execution_count": 10,
   "metadata": {},
   "outputs": [
    {
     "data": {
      "text/plain": [
       "int"
      ]
     },
     "execution_count": 10,
     "metadata": {},
     "output_type": "execute_result"
    }
   ],
   "source": [
    "type(age)"
   ]
  },
  {
   "cell_type": "code",
   "execution_count": null,
   "metadata": {},
   "outputs": [],
   "source": []
  },
  {
   "cell_type": "markdown",
   "metadata": {},
   "source": [
    "## Lists, Tuples, Dictionary"
   ]
  },
  {
   "cell_type": "markdown",
   "metadata": {},
   "source": [
    "<h4 style=\"color:aqua\"><big> Lists </big></h4>\n",
    "<p>\n",
    "\n",
    "Lists are created by placing all the items (elements) inside square brackets [], separated by commas. It can have any number of items and they may be of different types (integer, float, string etc.). Lists are mutable, and hence, they can be altered even after their creation.\n",
    "    \n",
    "`A list can also have another list as an item. This is called a nested list.`"
   ]
  },
  {
   "cell_type": "code",
   "execution_count": 11,
   "metadata": {},
   "outputs": [
    {
     "name": "stdout",
     "output_type": "stream",
     "text": [
      "[1, 2, 3, 4, 5]\n"
     ]
    }
   ],
   "source": [
    "numbers = [1, 2, 3, 4, 5]\n",
    "print(numbers)"
   ]
  },
  {
   "cell_type": "code",
   "execution_count": 12,
   "metadata": {},
   "outputs": [
    {
     "data": {
      "text/plain": [
       "list"
      ]
     },
     "execution_count": 12,
     "metadata": {},
     "output_type": "execute_result"
    }
   ],
   "source": [
    "type(numbers)"
   ]
  },
  {
   "cell_type": "code",
   "execution_count": 13,
   "metadata": {},
   "outputs": [
    {
     "name": "stdout",
     "output_type": "stream",
     "text": [
      "[[1, 2, 3], ['a', 'b', 'c'], [7, 8, 9]]\n"
     ]
    }
   ],
   "source": [
    "# nested lists\n",
    "\n",
    "nested_list = [[1, 2, 3], ['a', 'b', 'c'], [7, 8, 9]]\n",
    "print(nested_list)"
   ]
  },
  {
   "cell_type": "markdown",
   "metadata": {},
   "source": [
    "## List Subsetting\n",
    "Lists can be subset using the square brackets containing the starting index, ending index and step.\n",
    "\n",
    "N/B: Python indexing starts from zero (0).\n"
   ]
  },
  {
   "cell_type": "code",
   "execution_count": 15,
   "metadata": {},
   "outputs": [
    {
     "data": {
      "text/plain": [
       "list"
      ]
     },
     "execution_count": 15,
     "metadata": {},
     "output_type": "execute_result"
    }
   ],
   "source": [
    "items = ['World','Mathematics','Quantum','Physics','Ghana']\n",
    "type(items)"
   ]
  },
  {
   "cell_type": "markdown",
   "metadata": {},
   "source": [
    "## Lists properties\n",
    "* append()\n",
    "* remove()\n",
    "* count()\n",
    "* index()\n",
    "* insert()\n",
    "* sorted()"
   ]
  },
  {
   "cell_type": "code",
   "execution_count": null,
   "metadata": {},
   "outputs": [],
   "source": []
  },
  {
   "cell_type": "code",
   "execution_count": null,
   "metadata": {},
   "outputs": [],
   "source": []
  },
  {
   "cell_type": "markdown",
   "metadata": {},
   "source": [
    "<h4 style=\"color:brown\"><big> Dictionary Data Type </big></h4>\n",
    "<p>\n",
    "\n",
    "Dictionaries are used to store data values in key:value pairs.\n",
    "A dictionary is mutable but does not allow duplicates.\n",
    "Dictionaries are written with curly brackets, and have keys and values:"
   ]
  },
  {
   "cell_type": "code",
   "execution_count": 2,
   "metadata": {},
   "outputs": [
    {
     "name": "stdout",
     "output_type": "stream",
     "text": [
      "{'Name': 'Yakubu Yakubu', 'Age': 26, 'Country': 'Ghana', 'Course': 'Introduction to Programming with Python', 'Year': 2025}\n"
     ]
    },
    {
     "data": {
      "text/plain": [
       "dict"
      ]
     },
     "execution_count": 2,
     "metadata": {},
     "output_type": "execute_result"
    }
   ],
   "source": [
    "instructor = {\n",
    "  \"Name\": \"Yakubu Yakubu\",\n",
    "  \"Age\": 26,\n",
    "  \"Country\": \"Ghana\",\n",
    "  \"Course\": \"Introduction to Programming with Python\",\n",
    "  \"Year\": 2025\n",
    "}\n",
    "print(instructor)\n",
    "\n",
    "type(instructor)"
   ]
  },
  {
   "cell_type": "markdown",
   "metadata": {},
   "source": [
    "### You can access the items of a dictionary by referring to its key name, inside square brackets:"
   ]
  },
  {
   "cell_type": "code",
   "execution_count": 22,
   "metadata": {},
   "outputs": [
    {
     "data": {
      "text/plain": [
       "2025"
      ]
     },
     "execution_count": 22,
     "metadata": {},
     "output_type": "execute_result"
    }
   ],
   "source": [
    "instructor[\"Year\"]"
   ]
  },
  {
   "cell_type": "markdown",
   "metadata": {},
   "source": [
    "### Alternatively, you can use the get() method.\n"
   ]
  },
  {
   "cell_type": "code",
   "execution_count": 23,
   "metadata": {},
   "outputs": [
    {
     "data": {
      "text/plain": [
       "2025"
      ]
     },
     "execution_count": 23,
     "metadata": {},
     "output_type": "execute_result"
    }
   ],
   "source": [
    "instructor.get(\"Year\")"
   ]
  },
  {
   "cell_type": "code",
   "execution_count": 20,
   "metadata": {},
   "outputs": [
    {
     "name": "stdout",
     "output_type": "stream",
     "text": [
      "Yakubu Yakubu\n"
     ]
    }
   ],
   "source": [
    "name = instructor[\"Name\"]\n",
    "print(name)"
   ]
  },
  {
   "cell_type": "code",
   "execution_count": 21,
   "metadata": {},
   "outputs": [
    {
     "name": "stdout",
     "output_type": "stream",
     "text": [
      "Introduction to Programming with Python\n"
     ]
    }
   ],
   "source": [
    "course = instructor[\"Course\"]\n",
    "print(course)"
   ]
  },
  {
   "cell_type": "markdown",
   "metadata": {},
   "source": [
    "## Dictionary Properties\n",
    " * items()\n",
    " * keys()\n",
    " * values()\n",
    "  "
   ]
  },
  {
   "cell_type": "code",
   "execution_count": 3,
   "metadata": {},
   "outputs": [
    {
     "data": {
      "text/plain": [
       "dict_items([('Name', 'Yakubu Yakubu'), ('Age', 26), ('Country', 'Ghana'), ('Course', 'Introduction to Programming with Python'), ('Year', 2025)])"
      ]
     },
     "execution_count": 3,
     "metadata": {},
     "output_type": "execute_result"
    }
   ],
   "source": []
  },
  {
   "cell_type": "code",
   "execution_count": null,
   "metadata": {},
   "outputs": [],
   "source": []
  },
  {
   "cell_type": "markdown",
   "metadata": {},
   "source": [
    "<h1 style=\"color:red\"><big> Conditions In Python (IF Statements) </big></h1>\n",
    "<p>\n",
    "\n",
    "<p>Conditional statement consist of a test and one or more actions to be executed. The action in these action statement execute when the test evalutes to be True. However, in Python every value can be interpreted as a boolean value, regardless of its data type. i.e., when you test a condition, and your test is of a value that is not True or False, it will still be interpreted as either True or False.</p>\n",
    "<h3>Comparisons</h3>\n",
    "<p>Comparison is one of the common boolean expressions and it consist of two values with a comparison operator between them. This expression evalutes to True or False</p>\n",
    "<img width=500px src=\"img\\lecture-1\\comparisons.jpg\" />\n",
    "\n",
    "\n",
    "<h4>Logical Operators</h4>\n",
    "<p> Boolean expressions can be combined with logical operators and used in an if construct. There are three logical operators;</p>\n",
    "<img width=700px src=\"img\\lecture-1\\logical.jpg\" />\n",
    "\n",
    "<p>\n",
    " Decision making is anticipation of conditions occurring while execution of the program and specifying actions taken according to the conditions. Decision structures evaluate multiple expressions which produce TRUE or FALSE as outcome. You need to determine which action to take or which statements to execute if outcome is TRUE or FALSE otherwise.\n",
    "</p>\n",
    "\n",
    "<p> The advantages of Python programming spans, but is not limited to the following:</p>\n",
    "<ul>\n",
    "    <li>If statements (One way Decision)</li>\n",
    "    <li>If ....else statements (Two way decision & Multiple decision)</li>\n",
    "    <li>Nested If statement</li>\n",
    "\n",
    "</ul>"
   ]
  },
  {
   "cell_type": "markdown",
   "metadata": {},
   "source": []
  },
  {
   "cell_type": "markdown",
   "metadata": {},
   "source": [
    "# One way Decision"
   ]
  },
  {
   "cell_type": "markdown",
   "metadata": {},
   "source": [
    "## If Statement\n",
    "An action under this runs when the condition is met "
   ]
  },
  {
   "cell_type": "code",
   "execution_count": 4,
   "metadata": {},
   "outputs": [],
   "source": [
    "a = 5\n",
    "if a>10:\n",
    "    print(\"a is greater than 10\")"
   ]
  },
  {
   "cell_type": "code",
   "execution_count": 5,
   "metadata": {},
   "outputs": [
    {
     "name": "stdout",
     "output_type": "stream",
     "text": [
      "a is less than 10\n"
     ]
    }
   ],
   "source": [
    "if a<10:\n",
    "    print(\"a is less than 10\")"
   ]
  },
  {
   "cell_type": "markdown",
   "metadata": {},
   "source": [
    "## If else Statements"
   ]
  },
  {
   "cell_type": "markdown",
   "metadata": {},
   "source": [
    "if a condition is met anction should be performed else another action should be perfomed"
   ]
  },
  {
   "cell_type": "code",
   "execution_count": 6,
   "metadata": {},
   "outputs": [
    {
     "name": "stdout",
     "output_type": "stream",
     "text": [
      "a is not equal to 10\n"
     ]
    }
   ],
   "source": [
    "if a==10:\n",
    "    print(\"a is equal to 10\")\n",
    "else:\n",
    "    print(\"a is not equal to 10\")"
   ]
  },
  {
   "cell_type": "markdown",
   "metadata": {},
   "source": [
    "## If Else If Statements"
   ]
  },
  {
   "cell_type": "code",
   "execution_count": 8,
   "metadata": {},
   "outputs": [
    {
     "name": "stdout",
     "output_type": "stream",
     "text": [
      "a is greater than 10\n"
     ]
    }
   ],
   "source": [
    "a = 15\n",
    "if a==10:\n",
    "    print(\"a is equal to 10\")\n",
    "elif a>10:\n",
    "    print(\"a is greater than 10\")\n",
    "else:\n",
    "    print(\"a is less than 10\")"
   ]
  },
  {
   "cell_type": "markdown",
   "metadata": {},
   "source": [
    "Strings "
   ]
  },
  {
   "cell_type": "code",
   "execution_count": null,
   "metadata": {},
   "outputs": [],
   "source": []
  },
  {
   "cell_type": "code",
   "execution_count": null,
   "metadata": {},
   "outputs": [],
   "source": []
  },
  {
   "cell_type": "markdown",
   "metadata": {},
   "source": [
    "# <font color=\"aqua\">Iterations / Loops</font>\n",
    "\n",
    "<img align='right' width=150px src='img/lecture-2/loop.png'>\n",
    "\n",
    "Humans hate too much repetition. Therefore, repetitious tasks should be performed by computers. All programming languages support repetitions. The general class of programming constructs that allow the definition of repetitions are called \"iterations.” A term which is even more common for such tasks is “loops.” In general, statements are executed sequentially. Programming languages provide various control structures that allow for more complicated execution paths. A loop statement allows us to execute a statement or group of statements multiple times.\n",
    "\n",
    "\n",
    "Types of loops :\n",
    " 1. While Loop\n",
    " 2. For Loop\n",
    " 3. Nested Loop\n",
    "\n",
    "# While Loop\n",
    "A statement or group of statement in a while loop execute if the condition of the loop is True and stops if the condition no longer True. The condition is tested before the loop body executes.\n",
    "<br />\n",
    "<h4 style=\"color:aqua\"><big> While loop syntax </big></h4>\n",
    "iterator<br />\n",
    "while expression_is_True: <br />\n",
    "    &nbsp; &nbsp; &nbsp; &nbsp; statement(s) <br />\n",
    "    &nbsp; &nbsp; &nbsp; &nbsp; iterator increment\n",
    "<br />"
   ]
  },
  {
   "cell_type": "code",
   "execution_count": null,
   "metadata": {},
   "outputs": [
    {
     "name": "stdout",
     "output_type": "stream",
     "text": [
      "1 2 3 4 5 6 "
     ]
    }
   ],
   "source": [
    "i = 0\n",
    "while i<=5:\n",
    "    i+=1\n",
    "    print(i, end=\" \") "
   ]
  },
  {
   "cell_type": "code",
   "execution_count": null,
   "metadata": {},
   "outputs": [],
   "source": []
  },
  {
   "cell_type": "markdown",
   "metadata": {},
   "source": [
    "`Trial Exercise 2.1: `<br />\n",
    "Using while loop, find the equivalence of the degree Celcius values for $ C $, where $10 < C < 70 $ in Fahrenheit_degrees $F$. For each $C$, print its corresponding value in $F$ too.\n",
    "\n",
    "<p> C should have an interval of 5 </p>\n",
    "\n",
    "$$ F= \\frac{9C}{5}+ 32$$\n"
   ]
  },
  {
   "cell_type": "code",
   "execution_count": 20,
   "metadata": {},
   "outputs": [],
   "source": [
    "# codes\n"
   ]
  },
  {
   "cell_type": "markdown",
   "metadata": {},
   "source": [
    "# For Loop\n",
    "The Nature of For Loops. When data are collected in a list, we often want to perform the same operations on each element in the list. We then need to walk through all list elements. Computer languages have a special construct for doing this conveniently, and this construct is in Python and many other languages called a for loop.\n",
    "<p>The for-loop allows to iterate over a sequence (this could be a string or a list, for example). Here\n",
    "is an example:</p>"
   ]
  },
  {
   "cell_type": "code",
   "execution_count": 23,
   "metadata": {},
   "outputs": [
    {
     "name": "stdout",
     "output_type": "stream",
     "text": [
      "0 1 2 3 4 5 6 7 8 9 10 11 12 13 14 15 16 17 18 19 "
     ]
    }
   ],
   "source": [
    "for i in range(0,20):\n",
    "    print(i,end=' ')"
   ]
  },
  {
   "cell_type": "code",
   "execution_count": 24,
   "metadata": {},
   "outputs": [
    {
     "name": "stdout",
     "output_type": "stream",
     "text": [
      "0 2 4 6 8 10 12 14 16 18 "
     ]
    }
   ],
   "source": [
    "# Using for loop with ranges\n",
    "for x in range(0,20,2):\n",
    "    print(x,end=' ')"
   ]
  },
  {
   "cell_type": "code",
   "execution_count": 36,
   "metadata": {},
   "outputs": [
    {
     "name": "stdout",
     "output_type": "stream",
     "text": [
      "1 2 3 4 5 6 7 8 9 10 "
     ]
    }
   ],
   "source": [
    "numbers = [1, 2, 3, 4, 5, 6, 7, 8, 9, 10]\n",
    "for number in numbers:\n",
    "    print(number, end=' ')"
   ]
  },
  {
   "cell_type": "code",
   "execution_count": 34,
   "metadata": {},
   "outputs": [
    {
     "name": "stdout",
     "output_type": "stream",
     "text": [
      "1 2 Yes 5 OneQuantum PY4CA Ghana 57 MeteoData "
     ]
    }
   ],
   "source": [
    "sequence = [1,2,'Yes',5,'OneQuantum','PY4CA','Ghana','57','MeteoData']\n",
    "\n",
    "   #index, item\n",
    "for seq in sequence:\n",
    "    print(seq, end=' ')"
   ]
  },
  {
   "cell_type": "markdown",
   "metadata": {},
   "source": [
    "# TRIAL QUESTION\n",
    "\n",
    "Consider a particle of mass ($m$) that is moving under the influence of a constant force ($F$). The equations of motion for the velocity ($v$) and position ($x$) of the particle are given by:\n",
    "$$\\frac{dv}{dt} = \\frac{F}{m} \\quad \\quad \\quad \\quad \\quad \\quad (1) $$\n",
    "\n",
    "$$\\frac{dx}{dt} = v \\quad \\quad \\quad \\quad \\quad \\quad \\quad (2)$$\n",
    "\n",
    "\n",
    "Use a <font color='red'><strong>for loop to solve these equations numerically</strong></font> and determine the velocity and position of the particle as a function of time t. The simulation should run from $t=0$ to $t=t_{final}$ with a time step $dt$, and the initial conditions should be $v_0$ for the velocity and $x_0$ for the position.\n",
    "\n",
    "Plot the velocity v and position x versus time t for $m=1$, $f=1$, $t_{final}=10$, and $dt=0.01$. Compare your numerical results with the analytical solution.\n"
   ]
  },
  {
   "cell_type": "code",
   "execution_count": null,
   "metadata": {},
   "outputs": [],
   "source": []
  },
  {
   "cell_type": "markdown",
   "metadata": {},
   "source": []
  },
  {
   "cell_type": "markdown",
   "metadata": {},
   "source": [
    "# Functions "
   ]
  },
  {
   "cell_type": "code",
   "execution_count": 43,
   "metadata": {},
   "outputs": [
    {
     "name": "stdout",
     "output_type": "stream",
     "text": [
      "The factorial of 5 is 120\n"
     ]
    }
   ],
   "source": [
    "def factorial(n):\n",
    "    if n == 0:\n",
    "        return 1\n",
    "    else:\n",
    "        for i in range(1,n):\n",
    "            n = n * i\n",
    "        return n\n",
    "    \n",
    "number = int(input(\"Enter a number: \"))\n",
    "result = factorial(number)\n",
    "print(\"The factorial of\", number, \"is\", result)"
   ]
  },
  {
   "cell_type": "markdown",
   "metadata": {},
   "source": [
    "<p>\n",
    "<h4 style=\"color:aqua\">Let's try out a simple function for computing potential temperature:</h4>\n",
    "</p>    \n",
    "\n",
    "$ \\theta = T (\\frac{P_o}{P_1})^{0.286}$\n"
   ]
  },
  {
   "cell_type": "code",
   "execution_count": 44,
   "metadata": {},
   "outputs": [],
   "source": [
    "def potential_Temperature(T, Po,P1):\n",
    "    temperature = T * (Po/P1)**0.286\n",
    "    return temperature"
   ]
  },
  {
   "cell_type": "code",
   "execution_count": null,
   "metadata": {},
   "outputs": [
    {
     "name": "stdout",
     "output_type": "stream",
     "text": [
      "The potential temperature is 309.178\n"
     ]
    }
   ],
   "source": [
    "answer = potential_Temperature(300, 1000, 900)\n",
    "\n",
    "print(\"The potential temperature is {:.3f}\".format(answer))"
   ]
  },
  {
   "cell_type": "code",
   "execution_count": null,
   "metadata": {},
   "outputs": [],
   "source": []
  },
  {
   "cell_type": "code",
   "execution_count": null,
   "metadata": {},
   "outputs": [],
   "source": []
  },
  {
   "cell_type": "code",
   "execution_count": null,
   "metadata": {},
   "outputs": [],
   "source": []
  },
  {
   "cell_type": "code",
   "execution_count": null,
   "metadata": {},
   "outputs": [],
   "source": []
  },
  {
   "cell_type": "markdown",
   "metadata": {},
   "source": [
    "# Numpy, Matplolib, Sympy, Scipy, Seaborn"
   ]
  },
  {
   "cell_type": "markdown",
   "metadata": {},
   "source": [
    "<hr>\n",
    "<font color='red'><h2>List of Packages that will be useful for this training</h2></font>\n",
    "<hr>\n",
    "<ul>\n",
    "    <li>Numpy: <a href=\"https://pypi.org/project/numpy/\">https://pypi.org/project/numpy/</a> </li>\n",
    "    <li>Scipy: <a href=\"https://pypi.org/project/scipy/\">https://pypi.org/project/scipy/</a> </li>\n",
    "    <li>Matplotlib: <a href=\"https://pypi.org/project/matplotlib/\">https://pypi.org/project/matplotlib/</a> </li>\n",
    "    <li>Seaborn: <a href=\"https://pypi.org/project/seaborn/\">https://pypi.org/project/seaborn/</a> </li>\n",
    "    <li>Pandas: <a href=\"https://pypi.org/project/pandas/\">https://pypi.org/project/pandas/</a> </li>\n",
    "    <li>Sympy: <a href=\"https://pypi.org/project/sympy/\">https://pypi.org/project/sympy/</a> </li>\n",
    "</ul>\n",
    "    <hr>"
   ]
  },
  {
   "cell_type": "markdown",
   "metadata": {},
   "source": [
    "# Numpy"
   ]
  },
  {
   "cell_type": "markdown",
   "metadata": {},
   "source": [
    "NumPy is the fundamental package for scientific computing in Python. It is a Python library that provides a multidimensional array object, various derived objects (such as masked arrays and matrices)."
   ]
  },
  {
   "cell_type": "markdown",
   "metadata": {},
   "source": [
    "## There are 6 general mechanisms for creating arrays:\n",
    "\n",
    "* Conversion from other Python structures (i.e. lists and tuples)\n",
    "* Intrinsic NumPy array creation functions (e.g. arange, ones, zeros, etc.)\n",
    "* Replicating, joining, or mutating existing arrays\n",
    "* Reading arrays from disk, either from standard or custom formats\n",
    "* Creating arrays from raw bytes through the use of strings or buffers\n",
    "* Use of special library functions (e.g., random)"
   ]
  },
  {
   "cell_type": "code",
   "execution_count": 24,
   "metadata": {},
   "outputs": [
    {
     "name": "stdout",
     "output_type": "stream",
     "text": [
      "[1 2 3 4 5]\n"
     ]
    }
   ],
   "source": [
    "import numpy as np\n",
    "numbers = [1, 2, 3, 4, 5]\n",
    "arr = np.array(numbers)\n",
    "print(arr)"
   ]
  },
  {
   "cell_type": "code",
   "execution_count": 25,
   "metadata": {},
   "outputs": [
    {
     "name": "stdout",
     "output_type": "stream",
     "text": [
      "[[1. 0. 0.]\n",
      " [0. 1. 0.]\n",
      " [0. 0. 1.]]\n"
     ]
    }
   ],
   "source": [
    "identity_matrix = np.eye(3)\n",
    "print(identity_matrix)"
   ]
  },
  {
   "cell_type": "code",
   "execution_count": 61,
   "metadata": {},
   "outputs": [
    {
     "name": "stdout",
     "output_type": "stream",
     "text": [
      "[1 2 3 4 5 6 7 8 9]\n"
     ]
    }
   ],
   "source": [
    "nums = np.arange(1, 10, 1)\n",
    "print(nums)"
   ]
  },
  {
   "cell_type": "code",
   "execution_count": 62,
   "metadata": {},
   "outputs": [
    {
     "data": {
      "text/plain": [
       "array([[1, 2, 3],\n",
       "       [4, 5, 6],\n",
       "       [7, 8, 9]])"
      ]
     },
     "execution_count": 62,
     "metadata": {},
     "output_type": "execute_result"
    }
   ],
   "source": [
    "nums.reshape(3, 3)"
   ]
  },
  {
   "cell_type": "code",
   "execution_count": 32,
   "metadata": {},
   "outputs": [
    {
     "name": "stdout",
     "output_type": "stream",
     "text": [
      "[[1. 1. 1.]\n",
      " [1. 1. 1.]\n",
      " [1. 1. 1.]]\n"
     ]
    }
   ],
   "source": [
    "ones = np.ones((3, 3))\n",
    "print(ones)"
   ]
  },
  {
   "cell_type": "code",
   "execution_count": 38,
   "metadata": {},
   "outputs": [
    {
     "name": "stdout",
     "output_type": "stream",
     "text": [
      "[1. 2. 3. 4. 5.]\n"
     ]
    }
   ],
   "source": [
    "linesapce = np.linspace(1, 5, 5)\n",
    "print(linesapce)"
   ]
  },
  {
   "cell_type": "markdown",
   "metadata": {},
   "source": [
    "# Array Dimensions\n",
    "* 1 Dim\n",
    "* 2 Dim\n",
    "* 3 Dim\n",
    "* ...."
   ]
  },
  {
   "cell_type": "code",
   "execution_count": 40,
   "metadata": {},
   "outputs": [
    {
     "name": "stdout",
     "output_type": "stream",
     "text": [
      "[1 2 3 4 5]\n"
     ]
    }
   ],
   "source": [
    "a1d = np.array([1, 2, 3, 4, 5])\n",
    "print(a1d)"
   ]
  },
  {
   "cell_type": "code",
   "execution_count": 49,
   "metadata": {},
   "outputs": [
    {
     "name": "stdout",
     "output_type": "stream",
     "text": [
      "[[1 2 3]\n",
      " [4 5 6]]\n",
      "\n",
      "(2, 3)\n"
     ]
    }
   ],
   "source": [
    "a2d = np.array([[1, 2, 3], [4, 5, 6]])\n",
    "print(a2d)\n",
    "print()\n",
    "print(a2d.shape)"
   ]
  },
  {
   "cell_type": "code",
   "execution_count": 53,
   "metadata": {},
   "outputs": [
    {
     "name": "stdout",
     "output_type": "stream",
     "text": [
      "[[1 2 3]\n",
      " [4 5 6]\n",
      " [7 8 9]]\n"
     ]
    }
   ],
   "source": [
    "a3d = np.array([[1, 2, 3], [4, 5, 6], [7, 8, 9]])\n",
    "print(a3d)"
   ]
  },
  {
   "cell_type": "code",
   "execution_count": 54,
   "metadata": {},
   "outputs": [
    {
     "data": {
      "text/plain": [
       "(3, 3)"
      ]
     },
     "execution_count": 54,
     "metadata": {},
     "output_type": "execute_result"
    }
   ],
   "source": [
    "a3d.shape"
   ]
  },
  {
   "cell_type": "markdown",
   "metadata": {},
   "source": [
    "some problems"
   ]
  },
  {
   "cell_type": "code",
   "execution_count": 55,
   "metadata": {},
   "outputs": [
    {
     "name": "stdout",
     "output_type": "stream",
     "text": [
      "[[ 2  4  6]\n",
      " [ 8 10 12]\n",
      " [14 16 18]]\n"
     ]
    }
   ],
   "source": [
    "matA = np.array([[1, 2, 3], [4, 5, 6], [7, 8, 9]])\n",
    "matB = np.array([[1, 2, 3], [4, 5, 6], [7, 8, 9]])\n",
    "\n",
    "matC = matA + matB\n",
    "print(matC)"
   ]
  },
  {
   "cell_type": "code",
   "execution_count": 56,
   "metadata": {},
   "outputs": [
    {
     "name": "stdout",
     "output_type": "stream",
     "text": [
      "[[ 30  36  42]\n",
      " [ 66  81  96]\n",
      " [102 126 150]]\n"
     ]
    }
   ],
   "source": [
    "# matrix multiplication\n",
    "matD = np.dot(matA, matB)\n",
    "print(matD)"
   ]
  },
  {
   "cell_type": "code",
   "execution_count": 57,
   "metadata": {},
   "outputs": [
    {
     "name": "stdout",
     "output_type": "stream",
     "text": [
      "[[ 30  36  42]\n",
      " [ 66  81  96]\n",
      " [102 126 150]]\n"
     ]
    }
   ],
   "source": [
    "# matrix multiplication using @\n",
    "matE = matA @ matB\n",
    "print(matE)"
   ]
  },
  {
   "cell_type": "code",
   "execution_count": 60,
   "metadata": {},
   "outputs": [
    {
     "name": "stdout",
     "output_type": "stream",
     "text": [
      "Original Matrix\n",
      "[[1 2 3]\n",
      " [4 5 6]\n",
      " [7 8 9]]\n",
      "\n",
      "Transpose Matrix\n",
      "[[1 4 7]\n",
      " [2 5 8]\n",
      " [3 6 9]]\n"
     ]
    }
   ],
   "source": [
    "# matrix Transpose\n",
    "matF = matA.T\n",
    "print(\"Original Matrix\")\n",
    "print(matA)\n",
    "print()\n",
    "print(\"Transpose Matrix\")\n",
    "print(matF)"
   ]
  },
  {
   "cell_type": "markdown",
   "metadata": {},
   "source": [
    "# Matplolib"
   ]
  },
  {
   "cell_type": "code",
   "execution_count": 2,
   "metadata": {},
   "outputs": [
    {
     "data": {
      "image/png": "[encoded data removed]",
      "text/plain": [
       "<Figure size 640x480 with 1 Axes>"
      ]
     },
     "metadata": {},
     "output_type": "display_data"
    }
   ],
   "source": [
    "import matplotlib.pyplot as plt\n",
    "\n",
    "x = [1,2,3,4,5,6,7,8,9]\n",
    "y = [2,4,6,8,10,12,14,16,18]\n",
    "\n",
    "\n",
    "plt.plot(x, y)\n",
    "plt.xlabel('X-axis')\n",
    "plt.ylabel('Y-axis')\n",
    "plt.title('Simple Line Plot')\n",
    "plt.grid(True)\n",
    "plt.show()"
   ]
  },
  {
   "cell_type": "code",
   "execution_count": 65,
   "metadata": {},
   "outputs": [
    {
     "data": {
      "image/png": "[encoded data removed]",
      "text/plain": [
       "<Figure size 640x480 with 1 Axes>"
      ]
     },
     "metadata": {},
     "output_type": "display_data"
    }
   ],
   "source": [
    "x = np.linspace(0, 2*np.pi, 100)\n",
    "y = np.sin(x)\n",
    "z = np.cos(x)\n",
    "\n",
    "plt.plot(x, y, label='Sine', color='red')\n",
    "plt.plot(x, z, label='Cosine', color='blue')\n",
    "plt.xlabel('X-axis')\n",
    "plt.ylabel('Y-axis')\n",
    "plt.title('Sine and Cosine Plot')\n",
    "plt.legend()\n",
    "plt.show()"
   ]
  },
  {
   "cell_type": "code",
   "execution_count": 68,
   "metadata": {},
   "outputs": [
    {
     "data": {
      "image/png": "[encoded data removed]",
      "text/plain": [
       "<Figure size 1000x500 with 1 Axes>"
      ]
     },
     "metadata": {},
     "output_type": "display_data"
    }
   ],
   "source": [
    "# We can costoimize the plot by changing the line style, line width, marker, marker size, marker color, etc.\n",
    "\n",
    "plt.figure(figsize=(10, 5))\n",
    "plt.plot(x, y, label='Sine', color='red', linestyle='--', linewidth=2, marker='o', markersize=3, markerfacecolor='blue')\n",
    "plt.plot(x, z, label='Cosine', color='blue', linestyle='-.', linewidth=2, marker='x', markersize=5, markerfacecolor='red')\n",
    "plt.xlabel('X-axis')\n",
    "plt.ylabel('Y-axis')\n",
    "plt.title('Sine and Cosine Plot')\n",
    "plt.legend()\n",
    "plt.show()"
   ]
  },
  {
   "cell_type": "code",
   "execution_count": 10,
   "metadata": {},
   "outputs": [
    {
     "data": {
      "image/png": "[encoded data removed]",
      "text/plain": [
       "<Figure size 640x480 with 1 Axes>"
      ]
     },
     "metadata": {},
     "output_type": "display_data"
    }
   ],
   "source": [
    "import numpy as np\n",
    "\n",
    "# Scatter Plot\n",
    "x = [1, 2, 3, 4, 5, 6, 7, 8, 9, 10]\n",
    "y = [2, 4, 5, 8, 8, 11, 14, 16, 16, 20]\n",
    "\n",
    "plt.scatter(x, y, color='red', marker='o')\n",
    "m, b = np.polyfit(x, y, 1) # line of best fit\n",
    "plt.plot(x, m*np.array(x) + b) # plot the line of best fit\n",
    "plt.xlabel('X-axis')\n",
    "plt.ylabel('Y-axis')\n",
    "plt.title('Scatter Plot')\n",
    "plt.grid(True)\n",
    "plt.show()"
   ]
  },
  {
   "cell_type": "code",
   "execution_count": 78,
   "metadata": {},
   "outputs": [
    {
     "data": {
      "image/png": "[encoded data removed]",
      "text/plain": [
       "<Figure size 640x480 with 1 Axes>"
      ]
     },
     "metadata": {},
     "output_type": "display_data"
    }
   ],
   "source": [
    "# Bar Plot\n",
    "x = ['A', 'B', 'C', 'D', 'E']\n",
    "y = [10, 20, 60, 40, 15]\n",
    "\n",
    "plt.bar(x, y, color='blue')\n",
    "plt.xlabel('X-axis')\n",
    "plt.ylabel('Y-axis')\n",
    "plt.title('Bar Plot')\n",
    "plt.grid(True)\n",
    "plt.show()"
   ]
  },
  {
   "cell_type": "code",
   "execution_count": 14,
   "metadata": {},
   "outputs": [
    {
     "data": {
      "image/png": "[encoded data removed]",
      "text/plain": [
       "<Figure size 640x480 with 1 Axes>"
      ]
     },
     "metadata": {},
     "output_type": "display_data"
    }
   ],
   "source": [
    "# pie chart\n",
    "sizes = [20, 30, 40, 10]\n",
    "labels = ['A', 'B', 'C', 'D']\n",
    "\n",
    "plt.pie(sizes, labels=labels, autopct='%1.1f%%', startangle=90)\n",
    "plt.title('Pie Chart')\n",
    "plt.show()"
   ]
  }
 ],
 "metadata": {
  "kernelspec": {
   "display_name": "base",
   "language": "python",
   "name": "python3"
  },
  "language_info": {
   "codemirror_mode": {
    "name": "ipython",
    "version": 3
   },
   "file_extension": ".py",
   "mimetype": "text/x-python",
   "name": "python",
   "nbconvert_exporter": "python",
   "pygments_lexer": "ipython3",
   "version": "3.12.4"
  }
 },
 "nbformat": 4,
 "nbformat_minor": 2
}
