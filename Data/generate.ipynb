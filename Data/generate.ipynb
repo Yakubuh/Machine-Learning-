{
 "cells": [
  {
   "cell_type": "code",
   "execution_count": null,
   "metadata": {},
   "outputs": [
    {
     "name": "stdout",
     "output_type": "stream",
     "text": [
      "Dataset generated and saved as 'projectile_motion_data.csv' ✅\n"
     ]
    }
   ],
   "source": [
    "import numpy as np\n",
    "import pandas as pd\n",
    "\n",
    "\n",
    "g = 9.81 \n",
    "num_samples = 1000  \n",
    "\n",
    "initial_velocity = np.random.uniform(5, 50, num_samples)  \n",
    "launch_angle = np.random.uniform(10, 80, num_samples)  \n",
    "\n",
    "theta = np.radians(launch_angle)\n",
    "\n",
    "time_of_flight = (2 * initial_velocity * np.sin(theta)) / g\n",
    "max_height = (initial_velocity**2 * np.sin(theta)**2) / (2 * g)\n",
    "range_of_projectile = (initial_velocity**2 * np.sin(2 * theta)) / g\n",
    "final_velocity = np.sqrt(initial_velocity**2)  \n",
    "\n",
    "# Create DataFrame\n",
    "df = pd.DataFrame({\n",
    "    \"Initial Velocity (m/s)\": initial_velocity,\n",
    "    \"Launch Angle (degrees)\": launch_angle,\n",
    "    \"Gravity (m/s²)\": g,\n",
    "    \"Time of Flight (s)\": time_of_flight,\n",
    "    \"Maximum Height (m)\": max_height,\n",
    "    \"Range (m)\": range_of_projectile,\n",
    "    \"Final Velocity (m/s)\": final_velocity\n",
    "})\n",
    "\n",
    "# Save dataset to CSV\n",
    "df.to_csv(\"projectile_motion_data.csv\", index=False)\n",
    "\n",
    "print(\"Dataset generated and saved as 'projectile_motion_data.csv' \")\n",
    "\n",
    " "
   ]
  },
  {
   "cell_type": "code",
   "execution_count": 3,
   "metadata": {},
   "outputs": [
    {
     "name": "stdout",
     "output_type": "stream",
     "text": [
      "      Name   Age    Salary Department  Experience (Years)\n",
      "0    Alice  25.0   50000.0         HR                 1.0\n",
      "1      Bob   NaN   60000.0         IT                 3.0\n",
      "2  Charlie  30.0       NaN    Finance                 5.0\n",
      "3    David  45.0   80000.0         IT                10.0\n",
      "4      Eve   NaN   75000.0         HR                 7.0\n",
      "5    Frank  28.0       NaN        NaN                 NaN\n",
      "6    Grace  35.0   90000.0    Finance                 8.0\n",
      "7   Hannah   NaN   65000.0         HR                 6.0\n",
      "8      NaN  40.0       NaN         IT                 NaN\n",
      "9     Jack  50.0  100000.0        NaN                15.0\n"
     ]
    }
   ],
   "source": [
    "import pandas as pd\n",
    "import numpy as np\n",
    "\n",
    "data = {\n",
    "    \"Name\": [\"Alice\", \"Bob\", \"Charlie\", \"David\", \"Eve\", \"Frank\", \"Grace\", \"Hannah\", np.nan, \"Jack\"],\n",
    "    \"Age\": [25, np.nan, 30, 45, np.nan, 28, 35, np.nan, 40, 50],\n",
    "    \"Salary\": [50000, 60000, np.nan, 80000, 75000, np.nan, 90000, 65000, np.nan, 100000],\n",
    "    \"Department\": [\"HR\", \"IT\", \"Finance\", \"IT\", \"HR\", np.nan, \"Finance\", \"HR\", \"IT\", np.nan],\n",
    "    \"Experience (Years)\": [1, 3, 5, 10, 7, np.nan, 8, 6, np.nan, 15]\n",
    "}\n",
    "\n",
    "df = pd.DataFrame(data)\n",
    "\n",
    "# Save the dataset as a CSV file\n",
    "df.to_csv(\"employees.csv\")\n",
    "\n",
    "print(df)\n"
   ]
  },
  {
   "cell_type": "code",
   "execution_count": null,
   "metadata": {},
   "outputs": [],
   "source": []
  }
 ],
 "metadata": {
  "kernelspec": {
   "display_name": "base",
   "language": "python",
   "name": "python3"
  },
  "language_info": {
   "codemirror_mode": {
    "name": "ipython",
    "version": 3
   },
   "file_extension": ".py",
   "mimetype": "text/x-python",
   "name": "python",
   "nbconvert_exporter": "python",
   "pygments_lexer": "ipython3",
   "version": "3.12.3"
  }
 },
 "nbformat": 4,
 "nbformat_minor": 2
}
