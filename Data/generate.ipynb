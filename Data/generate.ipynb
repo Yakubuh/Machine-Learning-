{
 "cells": [
  {
   "cell_type": "code",
   "execution_count": 2,
   "metadata": {},
   "outputs": [
    {
     "name": "stdout",
     "output_type": "stream",
     "text": [
      "Dataset generated and saved as 'projectile_motion_data.csv' ✅\n"
     ]
    }
   ],
   "source": [
    "import numpy as np\n",
    "import pandas as pd\n",
    "\n",
    "# Constants\n",
    "g = 9.81  # Acceleration due to gravity (m/s²)\n",
    "num_samples = 1000  # Number of data points\n",
    "\n",
    "# Generate random initial velocities and angles\n",
    "initial_velocity = np.random.uniform(5, 50, num_samples)  # Between 5 m/s and 50 m/s\n",
    "launch_angle = np.random.uniform(10, 80, num_samples)  # Between 10° and 80°\n",
    "\n",
    "# Convert degrees to radians\n",
    "theta = np.radians(launch_angle)\n",
    "\n",
    "# Calculate physics parameters\n",
    "time_of_flight = (2 * initial_velocity * np.sin(theta)) / g\n",
    "max_height = (initial_velocity**2 * np.sin(theta)**2) / (2 * g)\n",
    "range_of_projectile = (initial_velocity**2 * np.sin(2 * theta)) / g\n",
    "final_velocity = np.sqrt(initial_velocity**2)  # Assuming no air resistance\n",
    "\n",
    "# Create DataFrame\n",
    "df = pd.DataFrame({\n",
    "    \"Initial Velocity (m/s)\": initial_velocity,\n",
    "    \"Launch Angle (degrees)\": launch_angle,\n",
    "    \"Gravity (m/s²)\": g,\n",
    "    \"Time of Flight (s)\": time_of_flight,\n",
    "    \"Maximum Height (m)\": max_height,\n",
    "    \"Range (m)\": range_of_projectile,\n",
    "    \"Final Velocity (m/s)\": final_velocity\n",
    "})\n",
    "\n",
    "# Save dataset to CSV\n",
    "df.to_csv(\"projectile_motion_data.csv\", index=False)\n",
    "\n",
    "print(\"Dataset generated and saved as 'projectile_motion_data.csv' ✅\")\n",
    "\n",
    " "
   ]
  },
  {
   "cell_type": "code",
   "execution_count": null,
   "metadata": {},
   "outputs": [],
   "source": []
  }
 ],
 "metadata": {
  "kernelspec": {
   "display_name": "base",
   "language": "python",
   "name": "python3"
  },
  "language_info": {
   "codemirror_mode": {
    "name": "ipython",
    "version": 3
   },
   "file_extension": ".py",
   "mimetype": "text/x-python",
   "name": "python",
   "nbconvert_exporter": "python",
   "pygments_lexer": "ipython3",
   "version": "3.12.4"
  }
 },
 "nbformat": 4,
 "nbformat_minor": 2
}
