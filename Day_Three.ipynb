{
 "cells": [
  {
   "cell_type": "markdown",
   "metadata": {},
   "source": [
    "# Introduction to Machine Learning\n",
    "* Supervised vs. Unsupervised Learning.\n",
    "* Linear Regression & Logistic Regression.\n",
    "* Decision Trees & K-Means Clustering.\n",
    "* Using Scikit-learn for model training.\n",
    "* Hands-on: Building and evaluating a simple ML model.\n"
   ]
  },
  {
   "cell_type": "markdown",
   "metadata": {},
   "source": []
  }
 ],
 "metadata": {
  "language_info": {
   "name": "python"
  }
 },
 "nbformat": 4,
 "nbformat_minor": 2
}
