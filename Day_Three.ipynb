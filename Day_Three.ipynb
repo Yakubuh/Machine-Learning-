{
 "cells": [
  {
   "cell_type": "markdown",
   "metadata": {},
   "source": [
    "# Introduction to Machine Learning\n",
    "* Supervised vs. Unsupervised Learning.\n",
    "* Linear Regression & Logistic Regression.\n",
    "* Decision Trees & K-Means Clustering.\n",
    "* Using Scikit-learn for model training.\n",
    "* Hands-on: Building and evaluating a simple ML model.\n"
   ]
  },
  {
   "cell_type": "markdown",
   "metadata": {},
   "source": [
    "## **1. Supervised vs. Unsupervised Learning**\n",
    "\n",
    "### **Supervised Learning**\n",
    "- In supervised learning, the model is trained on a labeled dataset, meaning that each training example is paired with an output label.\n",
    "- The goal is to learn a mapping from inputs to outputs so that it can make predictions on new, unseen data.\n",
    "- Examples:\n",
    "  - **Regression:** Predicting continuous values (e.g., house prices, temperature).\n",
    "  - **Classification:** Predicting discrete values (e.g., spam detection, disease diagnosis).\n"
   ]
  },
  {
   "cell_type": "markdown",
   "metadata": {},
   "source": [
    "### **Unsupervised Learning**\n",
    "- In unsupervised learning, the model is given data without explicit labels and must learn patterns and structure from the data itself.\n",
    "- Common applications include clustering and dimensionality reduction.\n",
    "- Examples:\n",
    "  - **Clustering:** Grouping similar items together (e.g., customer segmentation, anomaly detection).\n",
    "  - **Dimensionality Reduction:** Reducing the number of features while preserving information.\n"
   ]
  },
  {
   "cell_type": "markdown",
   "metadata": {},
   "source": [
    "---\n",
    "\n",
    "## **2. Linear Regression & Logistic Regression**\n",
    "\n",
    "### **Linear Regression**\n",
    "- Used for predicting **continuous values** by fitting a linear relationship between input features and the target variable.\n",
    "- Equation: $ y = mx + b $\n",
    "- Example: Predicting house prices based on size, number of rooms, etc.\n"
   ]
  },
  {
   "cell_type": "code",
   "execution_count": 7,
   "metadata": {},
   "outputs": [],
   "source": [
    "# Codes here"
   ]
  },
  {
   "cell_type": "markdown",
   "metadata": {},
   "source": [
    "---\n",
    "\n",
    "### **Logistic Regression**\n",
    "- Used for **classification tasks** (e.g., predicting whether an email is spam or not).\n",
    "- Uses the **sigmoid function** to output probabilities between 0 and 1.\n",
    "- Equation: $ P(y=1) = \\frac{1}{1 + e^{-z}}$"
   ]
  },
  {
   "cell_type": "code",
   "execution_count": 8,
   "metadata": {},
   "outputs": [],
   "source": [
    "# Code here"
   ]
  },
  {
   "cell_type": "markdown",
   "metadata": {},
   "source": [
    "## **3. Decision Trees & K-Means Clustering**\n",
    "\n",
    "### **Decision Trees**\n",
    "- A decision tree splits data into branches based on feature values to make predictions.\n",
    "- Works well for both classification and regression tasks.\n",
    "- Example: Predicting whether a loan applicant will default based on income and credit score.\n"
   ]
  },
  {
   "cell_type": "code",
   "execution_count": 18,
   "metadata": {},
   "outputs": [],
   "source": [
    "# Codes here\n"
   ]
  },
  {
   "cell_type": "markdown",
   "metadata": {},
   "source": []
  },
  {
   "cell_type": "markdown",
   "metadata": {},
   "source": [
    "\n",
    "### **K-Means Clustering**\n",
    "- A clustering algorithm that groups data points into **K clusters** based on similarity.\n",
    "- Example: Grouping customers based on purchasing behavior.\n",
    "\n",
    "#### **Implementation in Python**\n",
    "```python\n",
    "from sklearn.cluster import KMeans\n",
    "import numpy as np\n",
    "\n",
    "X = np.array([[1, 2], [1, 4], [1, 0], [10, 2], [10, 4], [10, 0]])\n",
    "kmeans = KMeans(n_clusters=2)\n",
    "kmeans.fit(X)\n",
    "print(kmeans.labels_)  # Cluster assignments\n",
    "```\n",
    "\n",
    "---\n",
    "\n",
    "## **4. Using Scikit-learn for Model Training**\n",
    "- **Scikit-learn** is a popular Python library for machine learning.\n",
    "- It provides easy-to-use functions for training models, making predictions, and evaluating performance.\n",
    "- Common steps:\n",
    "  1. **Load Data**\n",
    "  2. **Preprocess Data**\n",
    "  3. **Split Data (Training & Testing)**\n",
    "  4. **Train Model**\n",
    "  5. **Make Predictions**\n",
    "  6. **Evaluate Model Performance**\n",
    "\n",
    "#### **Example: Training a Simple Model**\n",
    "```python\n",
    "from sklearn.model_selection import train_test_split\n",
    "from sklearn.ensemble import RandomForestClassifier\n",
    "\n",
    "# Sample data\n",
    "X = [[1], [2], [3], [4], [5]]\n",
    "y = [0, 1, 0, 1, 0]\n",
    "\n",
    "# Split data into training and testing sets\n",
    "X_train, X_test, y_train, y_test = train_test_split(X, y, test_size=0.2, random_state=42)\n",
    "\n",
    "# Train model\n",
    "model = RandomForestClassifier()\n",
    "model.fit(X_train, y_train)\n",
    "\n",
    "# Make predictions\n",
    "predictions = model.predict(X_test)\n",
    "print(predictions)\n",
    "```\n",
    "\n",
    "---\n",
    "\n",
    "## **5. Hands-on: Building and Evaluating a Simple ML Model**\n",
    "\n",
    "### **Task: Predict if a person will buy a product based on age and salary**\n",
    "#### **Step 1: Load and Prepare Data**\n",
    "```python\n",
    "import pandas as pd\n",
    "from sklearn.model_selection import train_test_split\n",
    "from sklearn.ensemble import RandomForestClassifier\n",
    "from sklearn.metrics import accuracy_score\n",
    "\n",
    "# Sample data\n",
    "data = pd.DataFrame({\n",
    "    'Age': [22, 25, 47, 52, 46, 56, 29, 31],\n",
    "    'Salary': [20000, 25000, 47000, 52000, 46000, 56000, 29000, 31000],\n",
    "    'Purchased': [0, 0, 1, 1, 1, 1, 0, 0]\n",
    "})\n",
    "\n",
    "# Define features and target\n",
    "X = data[['Age', 'Salary']]\n",
    "y = data['Purchased']\n",
    "\n",
    "# Split data\n",
    "X_train, X_test, y_train, y_test = train_test_split(X, y, test_size=0.2, random_state=42)\n",
    "\n",
    "# Train model\n",
    "model = RandomForestClassifier()\n",
    "model.fit(X_train, y_train)\n",
    "\n",
    "# Make predictions\n",
    "y_pred = model.predict(X_test)\n",
    "\n",
    "# Evaluate model\n",
    "accuracy = accuracy_score(y_test, y_pred)\n",
    "print(f'Model Accuracy: {accuracy * 100:.2f}%')\n",
    "```\n",
    "\n",
    "---\n",
    "\n",
    "### **Conclusion**\n",
    "- We covered the basics of machine learning, including **supervised vs. unsupervised learning**, **linear & logistic regression**, **decision trees & clustering**, and using **Scikit-learn**.\n",
    "- Finally, we built a simple ML model to **predict user behavior** and evaluated its performance.\n",
    "\n",
    "🚀 **Next Steps:** Try modifying the dataset or using different ML models!\n",
    "\n"
   ]
  }
 ],
 "metadata": {
  "kernelspec": {
   "display_name": "base",
   "language": "python",
   "name": "python3"
  },
  "language_info": {
   "codemirror_mode": {
    "name": "ipython",
    "version": 3
   },
   "file_extension": ".py",
   "mimetype": "text/x-python",
   "name": "python",
   "nbconvert_exporter": "python",
   "pygments_lexer": "ipython3",
   "version": "3.12.4"
  }
 },
 "nbformat": 4,
 "nbformat_minor": 2
}
